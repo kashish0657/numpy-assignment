{
 "cells": [
  {
   "cell_type": "markdown",
   "id": "02ef18e5-f6ac-472c-9fbc-3d3e550a75dd",
   "metadata": {},
   "source": [
    "## NUMPY ASSIGNMENT"
   ]
  },
  {
   "cell_type": "code",
   "execution_count": null,
   "id": "a407058e-af2d-4be6-a836-c01faa86953d",
   "metadata": {},
   "outputs": [],
   "source": [
    "1:ans:- A list is a built-in data type in Python that is used to store a collection of values.\n",
    "        It is a dynamic data type, which means that the size of the list can change during runtime. \n",
    "        A list can contain elements of different data types.\n",
    "        \n",
    "        An array is a data structure that is used to store a fixed-size sequential collection of elements \n",
    "        of the same data type.Unlike a list, an array has a fixed size that cannot be changed during runtime."
   ]
  },
  {
   "cell_type": "code",
   "execution_count": 1,
   "id": "18b17f51-6f4d-4973-b289-5af66c29922c",
   "metadata": {},
   "outputs": [],
   "source": [
    "import numpy as np"
   ]
  },
  {
   "cell_type": "code",
   "execution_count": 2,
   "id": "78cef0ea-4a7a-49a4-a997-60ad4cb0ec66",
   "metadata": {},
   "outputs": [],
   "source": [
    "list_ = ['1','2','3','4','5']"
   ]
  },
  {
   "cell_type": "code",
   "execution_count": 3,
   "id": "9a14fe28-5c7e-4411-8681-83792faeb7ee",
   "metadata": {},
   "outputs": [],
   "source": [
    "array_list = np.array(object = list_)"
   ]
  },
  {
   "cell_type": "code",
   "execution_count": 4,
   "id": "f184d5c4-e5d8-411f-9d01-0b21862b41e9",
   "metadata": {},
   "outputs": [
    {
     "name": "stdout",
     "output_type": "stream",
     "text": [
      "<class 'list'>\n"
     ]
    }
   ],
   "source": [
    "print(type(list_))"
   ]
  },
  {
   "cell_type": "code",
   "execution_count": 5,
   "id": "3fe49f14-95fd-4533-878a-dab186337767",
   "metadata": {},
   "outputs": [
    {
     "name": "stdout",
     "output_type": "stream",
     "text": [
      "<class 'numpy.ndarray'>\n"
     ]
    }
   ],
   "source": [
    "print(type(array_list))"
   ]
  },
  {
   "cell_type": "code",
   "execution_count": null,
   "id": "c13e9299-c008-43a0-80b0-6307cbfc148b",
   "metadata": {},
   "outputs": [],
   "source": [
    "2:ans:- the codes are :-"
   ]
  },
  {
   "cell_type": "code",
   "execution_count": 6,
   "id": "8dd71804-3353-484f-9c58-692531b5d809",
   "metadata": {},
   "outputs": [],
   "source": [
    "list_ = ['1','2','3','4','5']"
   ]
  },
  {
   "cell_type": "code",
   "execution_count": 7,
   "id": "68b4d279-a66d-4eda-8c58-bc92ca856d92",
   "metadata": {},
   "outputs": [],
   "source": [
    "array_list = np.array(object = list_)"
   ]
  },
  {
   "cell_type": "code",
   "execution_count": 8,
   "id": "cdd5e95f-20ac-4e3e-8c2e-2bce5cbfee74",
   "metadata": {},
   "outputs": [
    {
     "name": "stdout",
     "output_type": "stream",
     "text": [
      "<class 'str'>\n",
      "<class 'str'>\n",
      "<class 'str'>\n",
      "<class 'str'>\n",
      "<class 'str'>\n"
     ]
    }
   ],
   "source": [
    "for elem in list_:\n",
    "    print(type(elem))  "
   ]
  },
  {
   "cell_type": "code",
   "execution_count": 9,
   "id": "dc38b3f1-e4ef-403c-a40b-1ea9af95617f",
   "metadata": {},
   "outputs": [
    {
     "name": "stdout",
     "output_type": "stream",
     "text": [
      "<class 'numpy.str_'>\n",
      "<class 'numpy.str_'>\n",
      "<class 'numpy.str_'>\n",
      "<class 'numpy.str_'>\n",
      "<class 'numpy.str_'>\n"
     ]
    }
   ],
   "source": [
    "for elem in array_list:\n",
    "    print(type(elem))"
   ]
  },
  {
   "cell_type": "code",
   "execution_count": null,
   "id": "1cc3e618-b1b1-4388-a90d-de92aa2385e7",
   "metadata": {},
   "outputs": [],
   "source": [
    "3:ans:- the code is:-"
   ]
  },
  {
   "cell_type": "code",
   "execution_count": 10,
   "id": "6f475e9b-417c-4503-ac86-711983a4a231",
   "metadata": {},
   "outputs": [],
   "source": [
    "array_list = np.array(object = list_ , dtype = int)"
   ]
  },
  {
   "cell_type": "code",
   "execution_count": 12,
   "id": "10564aa9-de51-4f53-b298-3527e59dd2ef",
   "metadata": {},
   "outputs": [
    {
     "data": {
      "text/plain": [
       "array([1, 2, 3, 4, 5])"
      ]
     },
     "execution_count": 12,
     "metadata": {},
     "output_type": "execute_result"
    }
   ],
   "source": [
    "array_list"
   ]
  },
  {
   "cell_type": "code",
   "execution_count": 13,
   "id": "87c6a2d3-5b38-4424-96f5-6d295547a309",
   "metadata": {},
   "outputs": [
    {
     "name": "stdout",
     "output_type": "stream",
     "text": [
      "<class 'numpy.int64'>\n",
      "<class 'numpy.int64'>\n",
      "<class 'numpy.int64'>\n",
      "<class 'numpy.int64'>\n",
      "<class 'numpy.int64'>\n"
     ]
    }
   ],
   "source": [
    "for elem in array_list:\n",
    "    print(type(elem))"
   ]
  },
  {
   "cell_type": "code",
   "execution_count": null,
   "id": "f4eead98-1a60-4c9a-b5e4-9520fdea9f3f",
   "metadata": {},
   "outputs": [],
   "source": [
    "4.ans:- the codes are:-"
   ]
  },
  {
   "cell_type": "code",
   "execution_count": 14,
   "id": "a8afe303-291c-404b-9b46-e874d629b7b6",
   "metadata": {},
   "outputs": [],
   "source": [
    "import numpy as np"
   ]
  },
  {
   "cell_type": "code",
   "execution_count": 15,
   "id": "fd662812-797e-4233-b1ac-94edfa733e43",
   "metadata": {},
   "outputs": [],
   "source": [
    "num_list = [[ 1,2,3] , [4,5,6]]"
   ]
  },
  {
   "cell_type": "code",
   "execution_count": 16,
   "id": "f4e4525d-98e3-47ab-86c5-1dfc18ce00b1",
   "metadata": {},
   "outputs": [],
   "source": [
    "num_array = np.array(object = num_list)"
   ]
  },
  {
   "cell_type": "code",
   "execution_count": 17,
   "id": "eac00c9e-1fd9-4337-a0aa-2795445474eb",
   "metadata": {},
   "outputs": [
    {
     "name": "stdout",
     "output_type": "stream",
     "text": [
      "Shape of array: (2, 3)\n"
     ]
    }
   ],
   "source": [
    "shape = num_array.shape\n",
    "print(\"Shape of array:\", shape)"
   ]
  },
  {
   "cell_type": "code",
   "execution_count": 19,
   "id": "031808eb-81f3-4770-9c81-90451827fe92",
   "metadata": {},
   "outputs": [
    {
     "name": "stdout",
     "output_type": "stream",
     "text": [
      "Size of array: 6\n"
     ]
    }
   ],
   "source": [
    "size = num_array.size\n",
    "print(\"Size of array:\", size)"
   ]
  },
  {
   "cell_type": "code",
   "execution_count": null,
   "id": "dc30d44d-652e-4f12-ba21-3f0886afa57a",
   "metadata": {},
   "outputs": [],
   "source": [
    "5:ans:- codes are:-"
   ]
  },
  {
   "cell_type": "code",
   "execution_count": 20,
   "id": "7f3978ab-d555-4bf0-9745-ce3fe1a75903",
   "metadata": {},
   "outputs": [],
   "source": [
    "import numpy as np"
   ]
  },
  {
   "cell_type": "code",
   "execution_count": 21,
   "id": "08f53f44-defb-4676-aed7-d1139d617136",
   "metadata": {},
   "outputs": [],
   "source": [
    "zeros_array = np.zeros((3, 3))"
   ]
  },
  {
   "cell_type": "code",
   "execution_count": 22,
   "id": "3e1cdfa9-6f24-4fa6-b254-893e0826cc2f",
   "metadata": {},
   "outputs": [
    {
     "name": "stdout",
     "output_type": "stream",
     "text": [
      "[[0. 0. 0.]\n",
      " [0. 0. 0.]\n",
      " [0. 0. 0.]]\n"
     ]
    }
   ],
   "source": [
    "print(zeros_array)"
   ]
  },
  {
   "cell_type": "code",
   "execution_count": null,
   "id": "b05fe61c-293c-4b86-8dd3-f2c1f616468c",
   "metadata": {},
   "outputs": [],
   "source": [
    "6:ans:- codes are :-"
   ]
  },
  {
   "cell_type": "code",
   "execution_count": 23,
   "id": "541b49d2-6ddf-45d5-878b-126e4a2c1bc7",
   "metadata": {},
   "outputs": [],
   "source": [
    "import numpy as np"
   ]
  },
  {
   "cell_type": "code",
   "execution_count": 24,
   "id": "ff418784-e5a8-402d-be64-ba501b26b891",
   "metadata": {},
   "outputs": [
    {
     "name": "stdout",
     "output_type": "stream",
     "text": [
      "[[1. 0. 0. 0. 0.]\n",
      " [0. 1. 0. 0. 0.]\n",
      " [0. 0. 1. 0. 0.]\n",
      " [0. 0. 0. 1. 0.]\n",
      " [0. 0. 0. 0. 1.]]\n"
     ]
    }
   ],
   "source": [
    "identity_matrix = np.identity(5)\n",
    "print(identity_matrix)"
   ]
  },
  {
   "cell_type": "code",
   "execution_count": null,
   "id": "ee2c8592-6582-439d-8e97-61544fec29f7",
   "metadata": {},
   "outputs": [],
   "source": []
  }
 ],
 "metadata": {
  "kernelspec": {
   "display_name": "Python 3 (ipykernel)",
   "language": "python",
   "name": "python3"
  },
  "language_info": {
   "codemirror_mode": {
    "name": "ipython",
    "version": 3
   },
   "file_extension": ".py",
   "mimetype": "text/x-python",
   "name": "python",
   "nbconvert_exporter": "python",
   "pygments_lexer": "ipython3",
   "version": "3.10.8"
  }
 },
 "nbformat": 4,
 "nbformat_minor": 5
}
